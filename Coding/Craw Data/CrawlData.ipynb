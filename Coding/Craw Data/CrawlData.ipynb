{
 "cells": [
  {
   "cell_type": "code",
   "execution_count": 15,
   "metadata": {},
   "outputs": [],
   "source": [
    "from selenium import webdriver\n",
    "from bs4 import BeautifulSoup\n",
    "browser = webdriver.Chrome(\"chromedriver.exe\")"
   ]
  },
  {
   "cell_type": "code",
   "execution_count": 2,
   "metadata": {},
   "outputs": [
    {
     "data": {
      "text/plain": [
       "['Số nhân CPU',\n",
       " 'Tốc độ tối đa',\n",
       " 'Kích thước',\n",
       " 'Kháng nước, bụi',\n",
       " 'Tần số quét',\n",
       " 'RAM',\n",
       " 'Bộ nhớ trong',\n",
       " 'Wide Camera',\n",
       " 'Ultra Wide',\n",
       " 'Telephoto',\n",
       " 'Selfie',\n",
       " 'Dung Lượng Pin',\n",
       " 'Mở Khóa vân tay',\n",
       " 'Nhận diện khuôn mặt',\n",
       " 'Giá thành']"
      ]
     },
     "execution_count": 2,
     "metadata": {},
     "output_type": "execute_result"
    }
   ],
   "source": [
    "features = [\"Số nhân CPU\", \"Tốc độ tối đa\", \"Kích thước\", \"Kháng nước, bụi\",\n",
    "\"Tần số quét\", \"RAM\", \"Bộ nhớ trong\", \"Wide Camera\", \n",
    "\"Ultra Wide\", \"Telephoto\", \"Selfie\", \"Dung Lượng Pin\", \n",
    "\"Mở Khóa vân tay\", \"Nhận diện khuôn mặt\", \"Giá thành\"]\n",
    "\n",
    "features"
   ]
  },
  {
   "cell_type": "code",
   "execution_count": 3,
   "metadata": {},
   "outputs": [
    {
     "data": {
      "text/plain": [
       "['https://fptshop.com.vn/dien-thoai/iphone-12-pro-max?dung-luong=128gb',\n",
       " 'https://fptshop.com.vn/dien-thoai/oppo-reno6-z',\n",
       " 'https://fptshop.com.vn/dien-thoai/samsung-galaxy-z-fold3?dung-luong=256-gb',\n",
       " 'https://fptshop.com.vn/dien-thoai/iphone-11-64gb',\n",
       " 'https://fptshop.com.vn/dien-thoai/xiaomi-poco-x3-pro',\n",
       " 'https://fptshop.com.vn/dien-thoai/nokia-c30',\n",
       " 'https://fptshop.com.vn/dien-thoai/samsung-galaxy-z-flip-3?dung-luong=128-gb',\n",
       " 'https://fptshop.com.vn/dien-thoai/xiaomi-redmi-10?dung-luong=128-gb',\n",
       " 'https://fptshop.com.vn/dien-thoai/samsung-galaxy-note-20-ultra',\n",
       " 'https://fptshop.com.vn/dien-thoai/iphone-12?dung-luong=64gb',\n",
       " 'https://fptshop.com.vn/dien-thoai/vsmart-aris-8gb-128gb',\n",
       " 'https://fptshop.com.vn/dien-thoai/samsung-galaxy-a22?ho-tro-mang=5g',\n",
       " 'https://fptshop.com.vn/dien-thoai/iphone-xr-64gb',\n",
       " 'https://fptshop.com.vn/dien-thoai/vivo-y21',\n",
       " 'https://fptshop.com.vn/dien-thoai/samsung-galaxy-a52s-5g',\n",
       " 'https://fptshop.com.vn/dien-thoai/iphone-12-pro?dung-luong=128gb',\n",
       " 'https://fptshop.com.vn/dien-thoai/realme-c21y',\n",
       " 'https://fptshop.com.vn/dien-thoai/oppo-a54',\n",
       " 'https://fptshop.com.vn/dien-thoai/samsung-galaxy-s20-fe-256gb',\n",
       " 'https://fptshop.com.vn/dien-thoai/xiaomi-redmi-note-10s',\n",
       " 'https://fptshop.com.vn/dien-thoai/vivo-y12s',\n",
       " 'https://fptshop.com.vn/dien-thoai/realme-c20',\n",
       " 'https://fptshop.com.vn/dien-thoai/vivo-v21',\n",
       " 'https://fptshop.com.vn/dien-thoai/xiaomi-redmi-9c-64gb',\n",
       " 'https://fptshop.com.vn/dien-thoai/samsung-galaxy-s20-plus',\n",
       " 'https://fptshop.com.vn/dien-thoai/xiaomi-redmi-9a-2gb-32gb',\n",
       " 'https://fptshop.com.vn/dien-thoai/vivo-y21s?ram=4gb']"
      ]
     },
     "execution_count": 3,
     "metadata": {},
     "output_type": "execute_result"
    }
   ],
   "source": [
    "def get_urls(page_url):\n",
    "    browser.get(page_url)\n",
    "    urls = browser.find_elements_by_class_name(\"cdt-product__img\")\n",
    "    page_urls = [url.find_element_by_css_selector(\"[href]\").get_attribute(\"href\") for url in urls]\n",
    "\n",
    "    return page_urls\n",
    "\n",
    "get_urls(\"https://fptshop.com.vn/dien-thoai\")"
   ]
  },
  {
   "cell_type": "code",
   "execution_count": 4,
   "metadata": {},
   "outputs": [
    {
     "data": {
      "text/plain": [
       "['https://cellphones.com.vn/samsung-galaxy-note-20-ultra-5g.html',\n",
       " 'https://cellphones.com.vn/iphone-13.html',\n",
       " 'https://cellphones.com.vn/iphone-13-pro-max.html',\n",
       " 'https://cellphones.com.vn/iphone-11.html',\n",
       " 'https://cellphones.com.vn/samsung-galaxy-z-flip-3.html',\n",
       " 'https://cellphones.com.vn/xiaomi-mi-11-lite.html',\n",
       " 'https://cellphones.com.vn/iphone-12-pro-max.html',\n",
       " 'https://cellphones.com.vn/iphone-12.html',\n",
       " 'https://cellphones.com.vn/samsung-galaxy-s21-ultra.html',\n",
       " 'https://cellphones.com.vn/xiaomi-redmi-note-10-5g-4gb.html',\n",
       " 'https://cellphones.com.vn/iphone-11-128gb.html',\n",
       " 'https://cellphones.com.vn/samsung-galaxy-a72.html',\n",
       " 'https://cellphones.com.vn/asus-rog-phone-5.html',\n",
       " 'https://cellphones.com.vn/xiaomi-redmi-10.html',\n",
       " 'https://cellphones.com.vn/xiaomi-redmi-note-10-pro.html',\n",
       " 'https://cellphones.com.vn/xiaomi-redmi-10-64gb.html',\n",
       " 'https://cellphones.com.vn/samsung-galaxy-s20-fe.html',\n",
       " 'https://cellphones.com.vn/samsung-galaxy-z-fold-3.html',\n",
       " 'https://cellphones.com.vn/xiaomi-redmi-note-10.html',\n",
       " 'https://cellphones.com.vn/samsung-galaxy-a52s.html']"
      ]
     },
     "execution_count": 4,
     "metadata": {},
     "output_type": "execute_result"
    }
   ],
   "source": [
    "def get_urls2(page_url):\n",
    "    browser.get(page_url)\n",
    "    urls = browser.find_elements_by_class_name(\"item-product__box-img\")\n",
    "    page_urls = [url.find_element_by_css_selector(\"[href]\").get_attribute(\"href\") for url in urls]\n",
    "\n",
    "    return page_urls\n",
    "\n",
    "get_urls2(\"https://cellphones.com.vn/mobile.html\")"
   ]
  },
  {
   "cell_type": "code",
   "execution_count": 40,
   "metadata": {},
   "outputs": [
    {
     "name": "stdout",
     "output_type": "stream",
     "text": [
      "Loading url= https://tiki.vn/dien-thoai-oppo-reno-5-8gb-128g-hang-chinh-hang-p74489817.html?spid=74489821\n"
     ]
    },
    {
     "data": {
      "text/plain": [
       "[<div class=\"content has-table\"><table><tbody><tr><td>Dung lượng pin</td><td>4310mAh (Typ)</td></tr><tr><td>Bluetooth</td><td>V 5.1</td></tr><tr><td>Thương hiệu</td><td>OPPO</td></tr><tr><td>Xuất xứ thương hiệu</td><td>Trung Quốc</td></tr><tr><td>Camera sau</td><td>Chính 64 MP &amp; Phụ 8 MP, 2 MP, 2 MP</td></tr><tr><td>Camera trước</td><td>32 MP</td></tr><tr><td>Hỗ trợ thẻ nhớ ngoài</td><td>Hỗ trợ thẻ nhớ tối đa 128GB</td></tr><tr><td>Chip đồ họa (GPU)</td><td>Adreno 620</td></tr><tr><td>Chip set</td><td>Qualcomm Snapdragon 720G</td></tr><tr><td>Chức năng khác</td><td>Chặn cuộc gọi, Đa cửa sổ (chia đôi màn hình), Nhân bản ứng dụng, Chặn tin nhắn</td></tr><tr><td>Kết nối khác</td><td>OTG</td></tr><tr><td>Tốc độ CPU</td><td>tối đa 2.3GHz</td></tr><tr><td>Đèn Flash</td><td>Có</td></tr><tr><td>Kích thước</td><td><ul>\n",
       " <li>159.1 x 73.3 x 7.7 mm (Đen)</li>\n",
       " <li>159.1 x 73.3 x 7.8 mm (Bạc)</li>\n",
       " </ul></td></tr><tr><td>Loại/ Công nghệ màn hình</td><td>AMOLED, 90Hz, Gorilla Glass 3+</td></tr><tr><td>GPS</td><td>GLONASS, BDS, A-GPS</td></tr><tr><td>Hỗ trợ 4G</td><td>Có</td></tr><tr><td>Model</td><td>Oppo Reno 5</td></tr><tr><td>Jack tai nghe</td><td>Type-C</td></tr><tr><td>Số sim</td><td>2</td></tr><tr><td>Loại pin</td><td>Li-Po</td></tr><tr><td>Loại Sim</td><td>Nano SIM</td></tr><tr><td>Nghe nhạc</td><td>Có</td></tr><tr><td>Xuất xứ</td><td>Trung Quốc</td></tr><tr><td>Cổng sạc</td><td>USB Type-C</td></tr><tr><td>Trọng lượng</td><td>171g (Bao gồm pin)</td></tr><tr><td>Quay phim</td><td>Có</td></tr><tr><td>RAM</td><td>8GB</td></tr><tr><td>Độ phân giải</td><td>Full HD+ (1080 x 2400 Pixels)</td></tr><tr><td>ROM</td><td>128GB</td></tr><tr><td>Kích thước màn hình</td><td>6.43 inch</td></tr><tr><td>Tính năng camera</td><td>Lấy nét theo pha (PDAF), Trôi nhanh thời gian (Time Lapse), Quay chậm (Slow Motion), Xóa phông, Chạm lấy nét, Toàn cảnh (Panorama), Chống rung quang học (OIS), Làm đẹp (Beautify), Tự động lấy nét (AF), Nhận diện khuôn mặt, HDR, Chuyên nghiệp (Pro), Góc rộng (Wide), Góc siêu rộng (Ultrawide)</td></tr><tr><td>Video call</td><td>Thông qua ứng dụng thứ 3</td></tr><tr><td>Wifi</td><td>Wi-Fi 802.11 a/b/g/n/ac, Wi-Fi hotspot, Dual-band (2.4 GHz/5 GHz), Wi-Fi Direct</td></tr><tr><td>Xem phim</td><td>Có</td></tr></tbody></table></div>]"
      ]
     },
     "execution_count": 40,
     "metadata": {},
     "output_type": "execute_result"
    }
   ],
   "source": [
    "def load_url_selenium_tiki(url):\n",
    "    driver = webdriver.Chrome(\"chromedriver.exe\")\n",
    "    print(\"Loading url=\", url)\n",
    "\n",
    "    driver.get(url)\n",
    "    page_source = BeautifulSoup(driver.page_source)\n",
    "    list = []\n",
    "    product = page_source.find_all('div', class_= \"content has-table\") \n",
    "    return (product)\n",
    "url = \"https://tiki.vn/dien-thoai-oppo-reno-5-8gb-128g-hang-chinh-hang-p74489817.html?spid=74489821\"\n",
    "load_url_selenium_tiki(url)"
   ]
  },
  {
   "cell_type": "code",
   "execution_count": 56,
   "metadata": {},
   "outputs": [
    {
     "name": "stdout",
     "output_type": "stream",
     "text": [
      "Loading url= https://tiki.vn/dien-thoai-oppo-reno-5-8gb-128g-hang-chinh-hang-p74489817.html?spid=74489821\n",
      "Dung lượng pin4310mAhBluetooth A2DP  LE  v5.1Thương hiệuOPPOXuất xứ thương hiệuTrung QuốcCamera sau Chính 64 MP & Phụ 8 MP, 2 MP, 2 MPCamera trước44 MPHỗ trợ thẻ nhớ ngoài MicroSDThời gian sạcSạc siêu nhanh 50WChip đồ họa (GPU)Adreno 618Chip set Snapdragon 720G 8 nhânChức năng khácChặn cuộc gọi, Đa cửa sổ (chia đôi màn hình), Nhân bản ứng dụng, Chặn tin nhắnKết nối khác OTGTốc độ CPU 2 nhân 2.3 GHz & 6 nhân 1.8 GHzĐèn FlashCóKích thướcDài 159.1 mm - Ngang 73.4 mm - Dày 7.7 mm - Nặng 171 g\n",
      " Loại/ Công nghệ màn hình AMOLEDFM radioKhôngGPSGLONASS, BDS, A-GPSHỗ trợ 4GCóPhụ kiện đi kèm\n",
      "\n",
      "Bộ sản phẩm gồm: Hộp, Sách hướng dẫn, Cây lấy sim, Ốp lưng, Cáp Type C, Củ sạc nhanh rời đầu Type A, Tai nghe dây\n",
      "\n",
      "Jack tai nghe3.5Bộ nhớ khả dụng115 GBSố sim2Loại pinLi-PoLoại SimNano SIMChất liệuKhung nhựa phủ sơn kim loại & Mặt lưng thuỷ tinh hữu cơNghe nhạcCóXuất xứTrung QuốcCổng sạcUSB Type-CTrọng lượngNặng 171 gQuay phimCóRAM8GBĐộ phân giảiFull HD+ (1080 x 2400 Pixels)ROM128GBKích thước màn hình6.43 inchHỗ trợ thẻ tối đahỗ trợ tối đa 256 GBTính năng camera 4K 2160p@30fps  FullHD 1080p@120fps  FullHD 1080p@30fps  FullHD 1080p@60fps  HD 720p@240fps  HD 720p@30fps  HD 720p@60fps  HD 720p@960fpsVideo callCóWifi Dual-band (2.4 GHz/5 GHz)  Wi-Fi 802.11 a/b/g/n/ac  Wi-Fi Direct  Wi-Fi hotspotXem phimCó\n"
     ]
    }
   ],
   "source": [
    "url = \"https://tiki.vn/dien-thoai-oppo-reno-5-8gb-128g-hang-chinh-hang-p74489817.html?spid=74489821\"\n",
    "driver = webdriver.Chrome(\"chromedriver.exe\")\n",
    "print(\"Loading url=\", url)\n",
    "driver.get(url)\n",
    "page_source = BeautifulSoup(driver.page_source)\n",
    "list = []\n",
    "infoY = page_source.find('div',class_='content has-table').extract()\n",
    "text=(str(infoY.text)) \n",
    "print(text)\n",
    "\n"
   ]
  },
  {
   "cell_type": "code",
   "execution_count": 54,
   "metadata": {},
   "outputs": [
    {
     "name": "stdout",
     "output_type": "stream",
     "text": [
      "Loading url= https://fptshop.com.vn/dien-thoai/iphone-12-pro-max?dung-luong=128gb\n",
      "Thông số kỹ thuậtMàn hình6.7\", Super Retina XDR, OLED, 2778 x 1284 PixelCamera sau12.0 MP + 12.0 MP + 12.0 MPCamera Selfie12.0 MPRAM 6 GBBộ nhớ trong128 GBCPUA14 BionicGPUApple GPU 4 nhânDung lượng pin3687 mAhThẻ sim2, 1 eSIM, 1 Nano SIMHệ điều hànhiOS 14Xuất xứTrung QuốcThời gian ra mắt10/2020Xem cấu hình chi tiết \n"
     ]
    }
   ],
   "source": [
    "url = \"https://fptshop.com.vn/dien-thoai/iphone-12-pro-max?dung-luong=128gb\"\n",
    "driver = webdriver.Chrome(\"chromedriver.exe\")\n",
    "print(\"Loading url=\", url)\n",
    "driver.get(url)\n",
    "page_source = BeautifulSoup(driver.page_source)\n",
    "list = []\n",
    "infoY = page_source.find('div',class_='card re-card st-card').extract()\n",
    "text=(str(infoY.text)) \n",
    "print(text)\n"
   ]
  }
 ],
 "metadata": {
  "interpreter": {
   "hash": "33dc6d49505b4536b6a128d9d7c879e1fa44477ad44947bbbe73093067fe6393"
  },
  "kernelspec": {
   "display_name": "Python 3.9.1 64-bit",
   "name": "python3"
  },
  "language_info": {
   "codemirror_mode": {
    "name": "ipython",
    "version": 3
   },
   "file_extension": ".py",
   "mimetype": "text/x-python",
   "name": "python",
   "nbconvert_exporter": "python",
   "pygments_lexer": "ipython3",
   "version": "3.9.1"
  },
  "orig_nbformat": 4
 },
 "nbformat": 4,
 "nbformat_minor": 2
}
